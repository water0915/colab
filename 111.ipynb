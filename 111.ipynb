{
  "cells": [
    {
      "cell_type": "markdown",
      "metadata": {
        "id": "view-in-github",
        "colab_type": "text"
      },
      "source": [
        "<a href=\"https://github.com/water0915/colab/blob/main/111.ipynb\" target=\"_parent\"><img src=\"https://colab.research.google.com/assets/colab-badge.svg\" alt=\"Open In Colab\"/></a>"
      ]
    },
    {
      "cell_type": "markdown",
      "metadata": {
        "id": "glwNVbldZ1Id"
      },
      "source": [
        "##一张图片，一个视频，一键换脸！\n",
        "\n",
        "\n",
        "基于[roop](https://github.com/s0md3v/roop)项目的一个脚本你，可以进行图片换脸，也可以视频换脸。可以自定义参数。  \n",
        "\n",
        "特点：就是快捷方便，没有其他。  \n",
        "\n",
        "如果要高质量换脸还是推荐DeepFaclab[教程](https://www.deepfaker.xyz/)\n",
        "\n",
        "脚本仅供学习研究，请勿用于任何非法用途！\n",
        "\n",
        "使用教程：https://www.tonyisstark.com/1240.html  \n",
        "离线版本：https://www.tonyisstark.com/1311.html\n",
        "\n",
        "公众号：托尼不是塔克  \n",
        "博客：[tonyisstark.com](https://www.tonyisstark.com/)"
      ]
    },
    {
      "cell_type": "code",
      "execution_count": null,
      "metadata": {
        "colab": {
          "base_uri": "https://localhost:8080/"
        },
        "id": "ZqdQ95WTKCSQ",
        "outputId": "f6dc6746-b8b1-4f11-d1dd-64de92b7ee67"
      },
      "outputs": [
        {
          "name": "stdout",
          "output_type": "stream",
          "text": []
        }
      ],
      "source": [
        "#@title 1.克隆源代码并安装依赖，并确认重启\n",
        "!git clone https://github.com/s0md3v/roop.git\n",
        "!git clone https://github.com/dream80/roop_colab.git\n",
        "%cd /content/roop\n",
        "\n",
        "Version = \"v1.3.2\" #@param [\"v1.3.0\",\"v1.3.1\",\"v1.3.2\"]\n",
        "\n",
        "vdict = {\n",
        "    \"v1.3.0\": \"142284916a5448acdf1a7fdca56d01c5aecafdad\",\n",
        "    \"v1.3.1\": \"e0642702f388ea16089a1d4a929728fa69457d60\",\n",
        "    \"v1.3.2\": \"c2d1feb17a9c51061b52cae5897136528f3b80cc\",\n",
        "}\n",
        "\n",
        "commit=vdict.get(Version, \"Invalid Version\")\n",
        "\n",
        "vcmd= f\"checkout {commit}\"\n",
        "\n",
        "\n",
        "!git $vcmd\n",
        "#有红色警告不用担心！\n",
        "\n",
        "\n",
        "!pip install -r requirements.txt\n",
        "\n",
        "\n",
        "#!pip install onnxruntime-gpu==1.15.0"
      ]
    },
    {
      "cell_type": "code",
      "execution_count": null,
      "metadata": {
        "colab": {
          "base_uri": "https://localhost:8080/"
        },
        "id": "FnSwYDX5K1P2",
        "outputId": "c5a45125-a4fb-4798-9c55-935c749e9552"
      },
      "outputs": [
        {
          "output_type": "stream",
          "name": "stdout",
          "text": [
            "/content/roop\n",
            "HEAD is now at c2d1feb Next (#810)\n"
          ]
        }
      ],
      "source": [
        "#@title 2.连接谷歌driver\n",
        "from google.colab import drive\n",
        "drive.mount('/content/drive')\n",
        "%cd /content/roop\n",
        "\n",
        "Version = \"v1.3.2\" #@param [\"v1.3.0\",\"v1.3.1\",\"v1.3.2\"]\n",
        "\n",
        "vdict = {\n",
        "    \"v1.3.0\": \"142284916a5448acdf1a7fdca56d01c5aecafdad\",\n",
        "    \"v1.3.1\": \"e0642702f388ea16089a1d4a929728fa69457d60\",\n",
        "    \"v1.3.2\": \"c2d1feb17a9c51061b52cae5897136528f3b80cc\",\n",
        "}\n",
        "\n",
        "commit=vdict.get(Version, \"Invalid Version\")\n",
        "\n",
        "vcmd= f\"checkout {commit}\"\n",
        "\n",
        "\n",
        "!git $vcmd\n"
      ]
    },
    {
      "cell_type": "markdown",
      "metadata": {
        "id": "vW_Ovjjq8Qv8"
      },
      "source": [
        "source : 源素素材路径，包含人脸的图片  \n",
        "\n",
        "target : 目标图片或者视频路径，也要包含人脸  \n",
        "\n",
        "output : 输出路径，如果targe是图片，这里也改成图片后缀  \n"
      ]
    },
    {
      "cell_type": "code",
      "execution_count": null,
      "metadata": {
        "colab": {
          "base_uri": "https://localhost:8080/"
        },
        "id": "cMJi9bI3LUyX",
        "outputId": "c67e3de1-1d10-419b-b5b1-1fcc2198a700"
      },
      "outputs": [
        {
          "output_type": "stream",
          "name": "stdout",
          "text": []
        }
      ],
      "source": [
        "#@title 4.准备素材\n",
        "source = \"/content/drive/MyDrive/1.jpg\" #@param {type:\"string\"}\n",
        "target_directory = \"/content/drive/MyDrive/wait\" #@param {type:\"string\"}\n",
        "output_directory = \"/content/drive/MyDrive/out\" #@param {type:\"string\"}\n",
        "#@title 5.开始换脸\n",
        "import os\n",
        "\n",
        "Device = \"cuda\" #@param [\"cuda\", \"cpu\"]\n",
        "\n",
        "Processor = \"face_swapper face_enhancer\" #@param [\"face_swapper face_enhancer\", \"face_swapper\",\"face_enhancer\"]\n",
        "\n",
        "VideoEncoder = \"libx264\" #@param ['libx264', 'libx265', 'libvpx-vp9', 'h264_nvenc', 'hevc_nvenc']\n",
        "\n",
        "VideoQuality = \"35\" #@param {type:\"string\"}\n",
        "\n",
        "TempFormat = \"jpg\" #@param [\"jpg\", \"png\"]\n",
        "\n",
        "TempQuality = \"0\" #@param {type:\"string\"}\n",
        "\n",
        "\n",
        "KeepFPS = True #@param {type:\"boolean\"}\n",
        "SkipAudio = False #@param {type:\"boolean\"}\n",
        "KeepFrames = False #@param {type:\"boolean\"}\n",
        "ManyFaces = True #@param {type:\"boolean\"}\n",
        "\n",
        "\n",
        "KeepFPS =\"--keep-fps\" if KeepFPS==True else \"\"\n",
        "SkipAudio =\"--skip-audio\" if SkipAudio==True else \"\"\n",
        "KeepFrames =\"--keep-frames\" if KeepFrames==True else \"\"\n",
        "ManyFaces =\"--many-faces\" if ManyFaces==True else \"\"\n",
        "\n",
        "!wget https://github.com/dream80/roop_colab/releases/download/v0.0.1/inswapper_128.onnx\n",
        "!mkdir models\n",
        "!mv inswapper_128.onnx models/\n",
        "!wget https://github.com/TencentARC/GFPGAN/releases/download/v1.3.4/GFPGANv1.4.pth\n",
        "!mv GFPGANv1.4.pth models/\n",
        "target_files = os.listdir(target_directory)\n",
        "for target in target_files:\n",
        "  output_file, _ = os.path.splitext(target)\n",
        "  target = os.path.join(target_directory,target)\n",
        "  output = os.path.join(output_directory, \"out\" + output_file + \".mp4\")\n",
        "  cmd = f\"run.py --execution-provider {Device} -s {source} -t {target} -o {output} --frame-processor {Processor} --output-video-encoder {VideoEncoder} --output-video-quality {VideoQuality} {KeepFPS} {SkipAudio} {KeepFrames} {ManyFaces} --temp-frame-format {TempFormat} --temp-frame-quality {TempQuality}\"\n",
        "  print(\"cmd:\"+cmd)\n",
        "  !python $cmd\n"
      ]
    },
    {
      "cell_type": "markdown",
      "metadata": {
        "id": "iOOzIywkxw9o"
      },
      "source": [
        "Device : 选CUDA就是使用GPU，选CPU就用CPU，如果你GPU配额用完了，可以用CPU顶一下。或者开Pro  \n",
        "\n",
        "Precessor : 选择换脸还是人脸修复，默认全部启用，也可以单独使用一个功能。  \n",
        "\n",
        "VideoEncoder : 视频编码器选择，一般用libx264。  \n",
        "\n",
        "VideoQuality : 视频质量，默认35，取值范围0-100  \n",
        "\n",
        "TempFormat ： 缓存帧格式，可以使jpg或者png  \n",
        "\n",
        "TempQuality ： 视频质量，默认0，取值范围0-100  \n",
        "\n",
        "KeepFPS : 保持帧率不变  \n",
        "\n",
        "SkipAudio ： 丢弃音轨   \n",
        "\n",
        "KeepFrames ： 保留分帧后的图片  \n",
        "\n",
        "ManyFaces ： 替换所有人脸"
      ]
    },
    {
      "cell_type": "markdown",
      "metadata": {
        "id": "P_cIVG84cTX3"
      },
      "source": [
        "#补充说明\n",
        "\n",
        "  \n"
      ]
    },
    {
      "cell_type": "markdown",
      "metadata": {
        "id": "O8qkUHNNw8-z"
      },
      "source": [
        "\n",
        "## 视频文件在哪里？  \n",
        "\n",
        "换脸成功后的视频保存在roop_colab文件里面  \n"
      ]
    },
    {
      "cell_type": "markdown",
      "metadata": {
        "id": "pl3m7Ymmw3A8"
      },
      "source": [
        "## 如何使用自己的素材？  \n",
        "\n",
        "如果要替换图片和视频，只需要在左边的文件管理里面右键上传，然后改一下名字就可以。了。  \n",
        "素材文件都在roop_colab文件中   \n",
        "1.jpg：换脸图片  \n",
        "2.mp4：换脸视频  \n",
        "out.mp4：是换脸后的视频  \n",
        "\n",
        "点击左侧文件，找到MP4,右键可以下载！\n",
        "\n"
      ]
    },
    {
      "cell_type": "markdown",
      "metadata": {
        "id": "kUXiEHjCxMpt"
      },
      "source": [
        "## 解除NSFW封印\n",
        "\n",
        "不多说，提示都在这里了  \n",
        "MAX_PROBABILITY = 1\n"
      ]
    },
    {
      "cell_type": "markdown",
      "metadata": {
        "id": "klzSfQPfwSNV"
      },
      "source": [
        "\n",
        "## 大文件处理\n",
        "\n",
        "如果文件比较大，直接在Colab上传会有难度，可以先传到谷歌云盘。然后挂载云盘就可以了，修改一下第五步里面图片和视频的地址就可以了。挂载谷歌盘之后也可以把输出文件直接指向云盘。\n",
        "\n",
        "如何需要使用谷歌云盘的文件，可以点击这个脚本，挂载云盘。\n",
        "\n",
        "from google.colab import drive  \n",
        "drive.mount('/content/drive')"
      ]
    },
    {
      "cell_type": "code",
      "execution_count": null,
      "metadata": {
        "colab": {
          "base_uri": "https://localhost:8080/"
        },
        "id": "wcW1JFVLpqEz",
        "outputId": "72156838-8711-4c85-f9e8-a4b177cff493"
      },
      "outputs": [
        {
          "name": "stdout",
          "output_type": "stream",
          "text": [
            "Mounted at /content/drive\n"
          ]
        }
      ],
      "source": [
        "from google.colab import drive\n",
        "drive.mount('/content/drive')"
      ]
    }
  ],
  "metadata": {
    "accelerator": "GPU",
    "colab": {
      "collapsed_sections": [
        "klzSfQPfwSNV"
      ],
      "machine_shape": "hm",
      "provenance": [],
      "include_colab_link": true
    },
    "kernelspec": {
      "display_name": "Python 3",
      "name": "python3"
    },
    "language_info": {
      "name": "python"
    }
  },
  "nbformat": 4,
  "nbformat_minor": 0
}
